{
 "cells": [
  {
   "cell_type": "markdown",
   "metadata": {},
   "source": [
    "# Navigation\n",
    "\n",
    "---\n",
    "\n",
    "In this notebook, you will learn how to use the Unity ML-Agents environment for the first project of the [Deep Reinforcement Learning Nanodegree](https://www.udacity.com/course/deep-reinforcement-learning-nanodegree--nd893).\n",
    "\n",
    "### 1. Start the Environment\n",
    "\n",
    "We begin by importing some necessary packages.  If the code cell below returns an error, please revisit the project instructions to double-check that you have installed [Unity ML-Agents](https://github.com/Unity-Technologies/ml-agents/blob/master/docs/Installation.md) and [NumPy](http://www.numpy.org/)."
   ]
  },
  {
   "cell_type": "code",
   "execution_count": null,
   "metadata": {},
   "outputs": [],
   "source": [
    "from unityagents import UnityEnvironment\n",
    "import numpy as np\n",
    "\n",
    "import random\n",
    "import torch\n",
    "from collections import deque\n",
    "import matplotlib.pyplot as plt\n"
   ]
  },
  {
   "cell_type": "markdown",
   "metadata": {},
   "source": [
    "Next, we will start the environment!  **_Before running the code cell below_**, change the `file_name` parameter to match the location of the Unity environment that you downloaded.\n",
    "\n",
    "- **Mac**: `\"path/to/Banana.app\"`\n",
    "- **Windows** (x86): `\"path/to/Banana_Windows_x86/Banana.exe\"`\n",
    "- **Windows** (x86_64): `\"path/to/Banana_Windows_x86_64/Banana.exe\"`\n",
    "- **Linux** (x86): `\"path/to/Banana_Linux/Banana.x86\"`\n",
    "- **Linux** (x86_64): `\"path/to/Banana_Linux/Banana.x86_64\"`\n",
    "- **Linux** (x86, headless): `\"path/to/Banana_Linux_NoVis/Banana.x86\"`\n",
    "- **Linux** (x86_64, headless): `\"path/to/Banana_Linux_NoVis/Banana.x86_64\"`\n",
    "\n",
    "For instance, if you are using a Mac, then you downloaded `Banana.app`.  If this file is in the same folder as the notebook, then the line below should appear as follows:\n",
    "```\n",
    "env = UnityEnvironment(file_name=\"Banana.app\")\n",
    "```"
   ]
  },
  {
   "cell_type": "code",
   "execution_count": null,
   "metadata": {},
   "outputs": [],
   "source": [
    "env = UnityEnvironment(file_name=\"Banana.app\")"
   ]
  },
  {
   "cell_type": "markdown",
   "metadata": {},
   "source": [
    "Environments contain **_brains_** which are responsible for deciding the actions of their associated agents. Here we check for the first brain available, and set it as the default brain we will be controlling from Python."
   ]
  },
  {
   "cell_type": "code",
   "execution_count": null,
   "metadata": {},
   "outputs": [],
   "source": [
    "# get the default brain\n",
    "brain_name = env.brain_names[0]\n",
    "brain = env.brains[brain_name]"
   ]
  },
  {
   "cell_type": "markdown",
   "metadata": {},
   "source": [
    "### 2. Examine the State and Action Spaces\n",
    "\n",
    "The simulation contains a single agent that navigates a large environment.  At each time step, it has four actions at its disposal:\n",
    "- `0` - walk forward \n",
    "- `1` - walk backward\n",
    "- `2` - turn left\n",
    "- `3` - turn right\n",
    "\n",
    "The state space has `37` dimensions and contains the agent's velocity, along with ray-based perception of objects around agent's forward direction.  A reward of `+1` is provided for collecting a yellow banana, and a reward of `-1` is provided for collecting a blue banana. \n",
    "\n",
    "Run the code cell below to print some information about the environment."
   ]
  },
  {
   "cell_type": "code",
   "execution_count": null,
   "metadata": {},
   "outputs": [],
   "source": [
    "# reset the environment\n",
    "env_info = env.reset(train_mode=True)[brain_name]\n",
    "\n",
    "# number of agents in the environment\n",
    "print('Number of agents:', len(env_info.agents))\n",
    "\n",
    "# number of actions\n",
    "action_size = brain.vector_action_space_size\n",
    "print('Number of actions:', action_size)\n",
    "\n",
    "# examine the state space \n",
    "state = env_info.vector_observations[0]\n",
    "print('States look like:', state)\n",
    "state_size = len(state)\n",
    "print('States have length:', state_size)"
   ]
  },
  {
   "cell_type": "markdown",
   "metadata": {},
   "source": [
    "### 3. Take Random Actions in the Environment\n",
    "\n",
    "In the next code cell, you will learn how to use the Python API to control the agent and receive feedback from the environment.\n",
    "\n",
    "Once this cell is executed, you will watch the agent's performance, if it selects an action (uniformly) at random with each time step.  A window should pop up that allows you to observe the agent, as it moves through the environment.  \n",
    "\n",
    "Of course, as part of the project, you'll have to change the code so that the agent is able to use its experience to gradually choose better actions when interacting with the environment!"
   ]
  },
  {
   "cell_type": "code",
   "execution_count": null,
   "metadata": {},
   "outputs": [],
   "source": [
    "env_info = env.reset(train_mode=False)[brain_name] # reset the environment\n",
    "state = env_info.vector_observations[0]            # get the current state\n",
    "score = 0                                          # initialize the score\n",
    "while True:\n",
    "    action = np.random.randint(action_size)        # select an action\n",
    "    env_info = env.step(action)[brain_name]        # send the action to the environment\n",
    "    next_state = env_info.vector_observations[0]   # get the next state\n",
    "    reward = env_info.rewards[0]                   # get the reward\n",
    "    done = env_info.local_done[0]                  # see if episode has finished\n",
    "    score += reward                                # update the score\n",
    "    state = next_state                             # roll over the state to next time step\n",
    "    if done:                                       # exit loop if episode finished\n",
    "        break\n",
    "    \n",
    "print(\"Score: {}\".format(score))"
   ]
  },
  {
   "cell_type": "markdown",
   "metadata": {},
   "source": [
    "When finished, you can close the environment."
   ]
  },
  {
   "cell_type": "code",
   "execution_count": null,
   "metadata": {},
   "outputs": [],
   "source": [
    "env.close()"
   ]
  },
  {
   "cell_type": "markdown",
   "metadata": {},
   "source": [
    "### 4. It's Your Turn!\n",
    "\n",
    "Now it's your turn to train your own agent to solve the environment!  When training the environment, set `train_mode=True`, so that the line for resetting the environment looks like the following:\n",
    "```python\n",
    "env_info = env.reset(train_mode=True)[brain_name]\n",
    "```"
   ]
  },
  {
   "cell_type": "code",
   "execution_count": 1,
   "metadata": {},
   "outputs": [],
   "source": [
    "#from unityagents import UnityEnvironment\n",
    "from unityagents.environment import UnityEnvironment\n",
    "\n",
    "import numpy as np\n",
    "\n",
    "import random\n",
    "import torch\n",
    "from collections import deque\n",
    "import matplotlib.pyplot as plt"
   ]
  },
  {
   "cell_type": "markdown",
   "metadata": {},
   "source": [
    "load dqn agent"
   ]
  },
  {
   "cell_type": "code",
   "execution_count": 2,
   "metadata": {},
   "outputs": [],
   "source": [
    "from dqn_agent import Agent\n",
    "agent = Agent(state_size=37, action_size=4, seed=0)"
   ]
  },
  {
   "cell_type": "markdown",
   "metadata": {},
   "source": [
    "dqn training"
   ]
  },
  {
   "cell_type": "code",
   "execution_count": 3,
   "metadata": {
    "scrolled": true
   },
   "outputs": [
    {
     "name": "stderr",
     "output_type": "stream",
     "text": [
      "INFO:unityagents:\n",
      "'Academy' started successfully!\n",
      "Unity Academy name: Academy\n",
      "        Number of Brains: 1\n",
      "        Number of External Brains : 1\n",
      "        Lesson number : 0\n",
      "        Reset Parameters :\n",
      "\t\t\n",
      "Unity brain name: BananaBrain\n",
      "        Number of Visual Observations (per agent): 0\n",
      "        Vector Observation space type: continuous\n",
      "        Vector Observation space size (per agent): 37\n",
      "        Number of stacked Vector Observation: 1\n",
      "        Vector Action space type: discrete\n",
      "        Vector Action space size (per agent): 4\n",
      "        Vector Action descriptions: , , , \n"
     ]
    }
   ],
   "source": [
    "env = UnityEnvironment(file_name=\"Banana.app\", seed = 0, no_graphics = True)"
   ]
  },
  {
   "cell_type": "code",
   "execution_count": 4,
   "metadata": {},
   "outputs": [],
   "source": [
    "brain_name = env.brain_names[0]\n",
    "brain = env.brains[brain_name]"
   ]
  },
  {
   "cell_type": "code",
   "execution_count": null,
   "metadata": {},
   "outputs": [],
   "source": []
  },
  {
   "cell_type": "code",
   "execution_count": 5,
   "metadata": {},
   "outputs": [
    {
     "name": "stdout",
     "output_type": "stream",
     "text": [
      "Episode 20\tAverage Score: 0.50\n",
      "Episode 40\tAverage Score: 1.77\n",
      "Episode 60\tAverage Score: 3.07\n",
      "Episode 80\tAverage Score: 3.91\n",
      "Episode 100\tAverage Score: 4.67\n",
      "Episode 120\tAverage Score: 6.42\n",
      "Episode 140\tAverage Score: 7.76\n",
      "Episode 160\tAverage Score: 8.69\n",
      "Episode 180\tAverage Score: 9.85\n",
      "Episode 200\tAverage Score: 10.87\n",
      "Episode 220\tAverage Score: 11.45\n",
      "Episode 240\tAverage Score: 12.11\n",
      "Episode 260\tAverage Score: 12.89\n",
      "Episode 280\tAverage Score: 13.37\n",
      "Episode 300\tAverage Score: 13.59\n",
      "Episode 320\tAverage Score: 14.29\n",
      "Episode 340\tAverage Score: 14.34\n",
      "Episode 360\tAverage Score: 14.74\n",
      "Episode 380\tAverage Score: 14.81\n",
      "Episode 400\tAverage Score: 15.21\n",
      "Episode 420\tAverage Score: 14.98\n",
      "Episode 440\tAverage Score: 15.43\n",
      "Episode 460\tAverage Score: 15.13\n",
      "Episode 480\tAverage Score: 15.29\n",
      "Episode 500\tAverage Score: 15.03\n",
      "Episode 520\tAverage Score: 14.76\n",
      "Episode 540\tAverage Score: 14.75\n",
      "Episode 560\tAverage Score: 15.11\n",
      "Episode 580\tAverage Score: 15.17\n",
      "Episode 600\tAverage Score: 15.14\n",
      "Episode 620\tAverage Score: 15.76\n",
      "Episode 640\tAverage Score: 15.47\n",
      "Episode 660\tAverage Score: 15.39\n",
      "Episode 680\tAverage Score: 15.05\n",
      "Episode 700\tAverage Score: 15.10\n",
      "Episode 720\tAverage Score: 14.92\n",
      "Episode 740\tAverage Score: 15.22\n",
      "Episode 760\tAverage Score: 15.18\n",
      "Episode 780\tAverage Score: 15.48\n",
      "Episode 800\tAverage Score: 15.42\n",
      "Episode 820\tAverage Score: 15.26\n",
      "Episode 840\tAverage Score: 15.55\n",
      "Episode 860\tAverage Score: 15.21\n",
      "Episode 880\tAverage Score: 15.21\n",
      "Episode 900\tAverage Score: 15.40\n",
      "Episode 920\tAverage Score: 15.59\n",
      "Episode 940\tAverage Score: 15.23\n",
      "Episode 960\tAverage Score: 15.60\n",
      "Episode 980\tAverage Score: 15.35\n",
      "Episode 1000\tAverage Score: 15.38\n",
      "Episode 1020\tAverage Score: 15.39\n",
      "Episode 1040\tAverage Score: 15.67\n",
      "Episode 1060\tAverage Score: 15.31\n",
      "Episode 1080\tAverage Score: 15.65\n",
      "Episode 1100\tAverage Score: 15.46\n",
      "Episode 1120\tAverage Score: 15.48\n",
      "Episode 1140\tAverage Score: 15.31\n",
      "Episode 1160\tAverage Score: 15.45\n",
      "Episode 1180\tAverage Score: 15.38\n",
      "Episode 1200\tAverage Score: 15.59\n",
      "Episode 1220\tAverage Score: 15.63\n",
      "Episode 1240\tAverage Score: 15.64\n",
      "Episode 1260\tAverage Score: 16.00\n",
      "Episode 1280\tAverage Score: 15.97\n",
      "Episode 1300\tAverage Score: 15.46\n",
      "Episode 1320\tAverage Score: 15.80\n",
      "Episode 1340\tAverage Score: 15.75\n",
      "Episode 1360\tAverage Score: 15.57\n",
      "Episode 1380\tAverage Score: 15.90\n",
      "Episode 1400\tAverage Score: 16.30\n",
      "Episode 1420\tAverage Score: 15.96\n",
      "Episode 1440\tAverage Score: 16.06\n",
      "Episode 1460\tAverage Score: 16.11\n",
      "Episode 1480\tAverage Score: 15.64\n",
      "Episode 1500\tAverage Score: 15.78\n",
      "Episode 1520\tAverage Score: 15.63\n",
      "Episode 1540\tAverage Score: 15.21\n",
      "Episode 1560\tAverage Score: 15.32\n",
      "Episode 1580\tAverage Score: 15.31\n",
      "Episode 1600\tAverage Score: 15.07\n",
      "Episode 1620\tAverage Score: 15.46\n",
      "Episode 1640\tAverage Score: 15.86\n",
      "Episode 1660\tAverage Score: 15.83\n",
      "Episode 1680\tAverage Score: 15.91\n",
      "Episode 1700\tAverage Score: 16.03\n",
      "Episode 1720\tAverage Score: 15.62\n",
      "Episode 1740\tAverage Score: 15.67\n",
      "Episode 1760\tAverage Score: 15.83\n",
      "Episode 1780\tAverage Score: 15.90\n",
      "Episode 1800\tAverage Score: 16.15\n",
      "Episode 1820\tAverage Score: 16.08\n",
      "Episode 1840\tAverage Score: 16.01\n",
      "Episode 1860\tAverage Score: 15.39\n",
      "Episode 1880\tAverage Score: 15.31\n",
      "Episode 1900\tAverage Score: 15.31\n",
      "Episode 1920\tAverage Score: 15.70\n",
      "Episode 1940\tAverage Score: 15.56\n",
      "Episode 1960\tAverage Score: 16.16\n",
      "Episode 1980\tAverage Score: 16.15\n",
      "Episode 2000\tAverage Score: 16.03\n",
      "Episode 2020\tAverage Score: 16.10\n",
      "Episode 2040\tAverage Score: 16.61\n",
      "Episode 2060\tAverage Score: 16.40\n",
      "Episode 2080\tAverage Score: 16.52\n",
      "Episode 2100\tAverage Score: 16.42\n",
      "Episode 2120\tAverage Score: 16.30\n",
      "Episode 2140\tAverage Score: 16.05\n",
      "Episode 2160\tAverage Score: 15.74\n",
      "Episode 2180\tAverage Score: 15.54\n",
      "Episode 2200\tAverage Score: 15.49\n",
      "Episode 2220\tAverage Score: 15.57\n",
      "Episode 2240\tAverage Score: 15.65\n",
      "Episode 2260\tAverage Score: 15.84\n",
      "Episode 2280\tAverage Score: 16.17\n",
      "Episode 2300\tAverage Score: 16.34\n",
      "Episode 2320\tAverage Score: 16.18\n",
      "Episode 2340\tAverage Score: 15.79\n",
      "Episode 2360\tAverage Score: 16.34\n",
      "Episode 2380\tAverage Score: 16.13\n",
      "Episode 2400\tAverage Score: 16.24\n",
      "Episode 2420\tAverage Score: 16.31\n",
      "Episode 2440\tAverage Score: 16.50\n",
      "Episode 2460\tAverage Score: 15.90\n",
      "Episode 2480\tAverage Score: 16.15\n",
      "Episode 2500\tAverage Score: 15.97\n",
      "Episode 2520\tAverage Score: 15.68\n",
      "Episode 2540\tAverage Score: 15.44\n",
      "Episode 2560\tAverage Score: 15.49\n",
      "Episode 2580\tAverage Score: 15.16\n",
      "Episode 2600\tAverage Score: 14.90\n",
      "Episode 2620\tAverage Score: 14.62\n",
      "Episode 2640\tAverage Score: 14.72\n",
      "Episode 2660\tAverage Score: 14.91\n",
      "Episode 2680\tAverage Score: 14.94\n",
      "Episode 2700\tAverage Score: 14.93\n",
      "Episode 2720\tAverage Score: 15.25\n",
      "Episode 2740\tAverage Score: 15.20\n",
      "Episode 2760\tAverage Score: 14.96\n",
      "Episode 2780\tAverage Score: 14.82\n",
      "Episode 2800\tAverage Score: 15.39\n",
      "Episode 2820\tAverage Score: 15.30\n",
      "Episode 2840\tAverage Score: 15.51\n",
      "Episode 2860\tAverage Score: 15.61\n",
      "Episode 2880\tAverage Score: 15.84\n",
      "Episode 2900\tAverage Score: 15.39\n",
      "Episode 2920\tAverage Score: 15.50\n",
      "Episode 2940\tAverage Score: 15.07\n",
      "Episode 2960\tAverage Score: 14.61\n",
      "Episode 2980\tAverage Score: 14.44\n",
      "Episode 3000\tAverage Score: 14.72\n"
     ]
    },
    {
     "data": {
      "image/png": "[encoded data removed]",
      "text/plain": [
       "<Figure size 432x288 with 1 Axes>"
      ]
     },
     "metadata": {
      "needs_background": "light"
     },
     "output_type": "display_data"
    }
   ],
   "source": [
    "def dqn(n_episodes=3000, max_t=15000, eps_start=0.50, eps_end=0.01, eps_decay=0.98):\n",
    "    \"\"\"Deep Q-Learning.\n",
    "    \n",
    "    Params\n",
    "    ======\n",
    "        n_episodes (int): maximum number of training episodes\n",
    "        max_t (int): maximum number of timesteps per episode\n",
    "        eps_start (float): starting value of epsilon, for epsilon-greedy action selection\n",
    "        eps_end (float): minimum value of epsilon\n",
    "        eps_decay (float): multiplicative factor (per episode) for decreasing epsilon\n",
    "    \"\"\"\n",
    "    scores = []                        # list containing scores from each episode\n",
    "    scores_window = deque(maxlen=100)  # last 100 scores\n",
    "    eps = eps_start                    # initialize epsilon\n",
    "    for i_episode in range(1, n_episodes+1):\n",
    "        env_info = env.reset(train_mode=True)[brain_name] # yin\n",
    "        state = env_info.vector_observations[0]            # yin get the current state\n",
    "        score = 0                                          # yin initialize the score\n",
    "        for t in range(max_t):\n",
    "            action = agent.act(state, eps)\n",
    "            #next_state, reward, done, _ = env.step(action)\n",
    "            env_info = env.step(action)[brain_name]        # yin send the action to the environment\n",
    "            next_state = env_info.vector_observations[0]   # yin get the next state\n",
    "            reward = env_info.rewards[0]                   # yin get the reward\n",
    "            done = env_info.local_done[0]                  # yin see if episode has finished\n",
    "    \n",
    "            agent.step(state, action, reward, next_state, done)\n",
    "            score += reward                                # yin update the score\n",
    "            state = next_state                             # yin roll over the state to next time step         \n",
    "            #agent.step(state, action, reward, next_state, done)\n",
    "            if done:\n",
    "                break \n",
    "        scores_window.append(score)       # save most recent score\n",
    "        scores.append(score)              # save most recent score\n",
    "        eps = max(eps_end, eps_decay*eps) # decrease epsilon\n",
    "        #print('action ')\n",
    "        #print(action)\n",
    "        #print('state ')\n",
    "        #print(state)\n",
    "        #print('\\rEpisode {}\\tAverage Score: {:.2f}'.format(i_episode, np.mean(scores_window)), end=\"\")\n",
    "        if i_episode % 20 == 0:\n",
    "            print('\\rEpisode {}\\tAverage Score: {:.2f}'.format(i_episode, np.mean(scores_window)))\n",
    "        if np.mean(scores_window)>=13.0:\n",
    "            print('\\nEnvironment solved in {:d} episodes!\\tAverage Score: {:.2f}'.format(i_episode-100, np.mean(scores_window)))\n",
    "            torch.save(agent.qnetwork_local.state_dict(), 'checkpoint.pth')\n",
    "            break\n",
    "    return scores\n",
    "\n",
    "scores = dqn()\n",
    "\n",
    "# plot the scores\n",
    "fig = plt.figure()\n",
    "ax = fig.add_subplot(111)\n",
    "plt.plot(np.arange(len(scores)), scores)\n",
    "plt.ylabel('Score')\n",
    "plt.xlabel('Episode #')\n",
    "plt.show()"
   ]
  },
  {
   "cell_type": "markdown",
   "metadata": {},
   "source": [
    "Plot the results "
   ]
  },
  {
   "cell_type": "code",
   "execution_count": null,
   "metadata": {},
   "outputs": [],
   "source": []
  },
  {
   "cell_type": "code",
   "execution_count": null,
   "metadata": {},
   "outputs": [],
   "source": []
  },
  {
   "cell_type": "code",
   "execution_count": null,
   "metadata": {},
   "outputs": [],
   "source": []
  }
 ],
 "metadata": {
  "kernelspec": {
   "display_name": "drlnd1",
   "language": "python",
   "name": "drlnd1"
  },
  "language_info": {
   "codemirror_mode": {
    "name": "ipython",
    "version": 3
   },
   "file_extension": ".py",
   "mimetype": "text/x-python",
   "name": "python",
   "nbconvert_exporter": "python",
   "pygments_lexer": "ipython3",
   "version": "3.6.10"
  }
 },
 "nbformat": 4,
 "nbformat_minor": 2
}
